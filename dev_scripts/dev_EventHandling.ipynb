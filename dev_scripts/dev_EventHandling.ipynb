{
 "cells": [
  {
   "cell_type": "code",
   "execution_count": 19,
   "outputs": [],
   "source": [
    "from eventhandler import EventHandler\n",
    "from datetime import datetime\n",
    "\n",
    "from pprint import pprint\n",
    "\n",
    "from core.position_manager import Position\n",
    "\n",
    "class Strategy:\n",
    "\n",
    "    def __init__(self):\n",
    "        self.event_handler = EventHandler('newSignal')\n",
    "        self.event_handler.link(self.__on_new_signal, 'newSignal')\n",
    "\n",
    "    def __on_new_signal(self, signal):\n",
    "        print(f\"__on_new_signal fired\")\n",
    "\n",
    "    def emulate_signal(self, signal):\n",
    "        self.event_handler.fire('newSignal', signal)\n"
   ],
   "metadata": {
    "collapsed": false,
    "pycharm": {
     "name": "#%%\n"
    }
   }
  },
  {
   "cell_type": "code",
   "execution_count": 20,
   "outputs": [],
   "source": [
    "class PositionManager:\n",
    "\n",
    "    def __init__(self, strategy: Strategy):\n",
    "        self.__positions = []  # Stores all positions\n",
    "        self.event_handler = EventHandler('onOpenPosition', 'onClosePosition')\n",
    "        self.event_handler.link(self.__on_open_position, 'onOpenPosition')\n",
    "        self.event_handler.link(self.__on_close_position, 'onOpenPosition')\n",
    "\n",
    "\n",
    "        strategy.event_handler.link(self.open, 'newSignal')\n",
    "\n",
    "    # This callback will be called when onOpenPosition event happens\n",
    "    def __on_open_position(self, position):\n",
    "        print(\"PositionManager.__on_open_position fired!\\n\")\n",
    "        print(f\"Position Opened:\\n\"\n",
    "              f\"{position}\")\n",
    "        self.__positions.append(position)\n",
    "\n",
    "    # This callback will be called when onClosePosition event happens\n",
    "    def __on_close_position(self, position):\n",
    "        print(\"PositionManager.__on_close_position fired!\\n\")\n",
    "        print(f\"Position Closed:\\n\"\n",
    "              f\"{position}\")\n",
    "\n",
    "    # Now let's define the public methods of the PositionManager to be used outside the class\n",
    "    def open(self, direction):\n",
    "        position = {\n",
    "            \"direction\": direction,\n",
    "            \"open_timestamp\": datetime.utcnow(),\n",
    "            \"status\": \"open\"\n",
    "        }\n",
    "        print(f\"Opening {direction} position:\\n\")\n",
    "        pprint(position)\n",
    "\n",
    "        self.event_handler.fire('onOpenPosition', position)\n",
    "\n",
    "    def close(self, position):\n",
    "        print(f\"Closing Position:\\n\"\n",
    "              f\"{position}\")\n",
    "        position['status'] = \"closed\"\n",
    "        position['close_timestamp'] = datetime.utcnow()\n",
    "\n",
    "        self.event_handler.fire('onClosePosition', position)\n"
   ],
   "metadata": {
    "collapsed": false,
    "pycharm": {
     "name": "#%%\n"
    }
   }
  },
  {
   "cell_type": "code",
   "execution_count": 21,
   "outputs": [
    {
     "name": "stdout",
     "output_type": "stream",
     "text": [
      "['_Strategy__on_new_signal',\n",
      " '__class__',\n",
      " '__delattr__',\n",
      " '__dict__',\n",
      " '__dir__',\n",
      " '__doc__',\n",
      " '__eq__',\n",
      " '__format__',\n",
      " '__ge__',\n",
      " '__getattribute__',\n",
      " '__gt__',\n",
      " '__hash__',\n",
      " '__init__',\n",
      " '__init_subclass__',\n",
      " '__le__',\n",
      " '__lt__',\n",
      " '__module__',\n",
      " '__ne__',\n",
      " '__new__',\n",
      " '__reduce__',\n",
      " '__reduce_ex__',\n",
      " '__repr__',\n",
      " '__setattr__',\n",
      " '__sizeof__',\n",
      " '__str__',\n",
      " '__subclasshook__',\n",
      " '__weakref__',\n",
      " 'emulate_signal',\n",
      " 'event_handler']\n"
     ]
    }
   ],
   "source": [
    "my_strategy = Strategy()  # Must init with ()\n",
    "\n",
    "pprint(dir(my_strategy))"
   ],
   "metadata": {
    "collapsed": false,
    "pycharm": {
     "name": "#%%\n"
    }
   }
  },
  {
   "cell_type": "code",
   "execution_count": 27,
   "outputs": [
    {
     "name": "stdout",
     "output_type": "stream",
     "text": [
      "__on_new_signal fired\n",
      "Opening LONG position:\n",
      "\n",
      "{'direction': 'LONG',\n",
      " 'open_timestamp': datetime.datetime(2022, 3, 26, 20, 19, 4, 597546),\n",
      " 'status': 'open'}\n",
      "PositionManager.__on_open_position fired!\n",
      "\n",
      "Position Opened:\n",
      "{'direction': 'LONG', 'open_timestamp': datetime.datetime(2022, 3, 26, 20, 19, 4, 597546), 'status': 'open'}\n",
      "PositionManager.__on_close_position fired!\n",
      "\n",
      "Position Closed:\n",
      "{'direction': 'LONG', 'open_timestamp': datetime.datetime(2022, 3, 26, 20, 19, 4, 597546), 'status': 'open'}\n",
      "Opening LONG position:\n",
      "\n",
      "{'direction': 'LONG',\n",
      " 'open_timestamp': datetime.datetime(2022, 3, 26, 20, 19, 4, 597940),\n",
      " 'status': 'open'}\n",
      "PositionManager.__on_open_position fired!\n",
      "\n",
      "Position Opened:\n",
      "{'direction': 'LONG', 'open_timestamp': datetime.datetime(2022, 3, 26, 20, 19, 4, 597940), 'status': 'open'}\n",
      "PositionManager.__on_close_position fired!\n",
      "\n",
      "Position Closed:\n",
      "{'direction': 'LONG', 'open_timestamp': datetime.datetime(2022, 3, 26, 20, 19, 4, 597940), 'status': 'open'}\n",
      "Opening LONG position:\n",
      "\n",
      "{'direction': 'LONG',\n",
      " 'open_timestamp': datetime.datetime(2022, 3, 26, 20, 19, 4, 598312),\n",
      " 'status': 'open'}\n",
      "PositionManager.__on_open_position fired!\n",
      "\n",
      "Position Opened:\n",
      "{'direction': 'LONG', 'open_timestamp': datetime.datetime(2022, 3, 26, 20, 19, 4, 598312), 'status': 'open'}\n",
      "PositionManager.__on_close_position fired!\n",
      "\n",
      "Position Closed:\n",
      "{'direction': 'LONG', 'open_timestamp': datetime.datetime(2022, 3, 26, 20, 19, 4, 598312), 'status': 'open'}\n"
     ]
    }
   ],
   "source": [
    "\n",
    "my_pm = PositionManager(my_strategy)\n",
    "my_strategy.emulate_signal('LONG')"
   ],
   "metadata": {
    "collapsed": false,
    "pycharm": {
     "name": "#%%\n"
    }
   }
  },
  {
   "cell_type": "code",
   "execution_count": 23,
   "outputs": [],
   "source": [
    "class Notifier:\n",
    "\n",
    "    def __init__(self, pm: PositionManager):\n",
    "\n",
    "        # Subscribe to external ChatRoom class events\n",
    "        pm.event_handler.link(self.send_telegram_notification, 'onOpenPosition')\n",
    "        pm.event_handler.link(self.send_telegram_notification, 'onClosePosition')\n",
    "\n",
    "    # When chatroom fires the onNewUser event our bot will saludate will link this method.\n",
    "    def send_telegram_notification(self, position):\n",
    "        print(\"Sending Telegram Notification...\\n\"\n",
    "              \"Position Info:\\n\")\n",
    "        pprint(position)\n"
   ],
   "metadata": {
    "collapsed": false,
    "pycharm": {
     "name": "#%%\n"
    }
   }
  },
  {
   "cell_type": "code",
   "execution_count": 26,
   "outputs": [
    {
     "name": "stdout",
     "output_type": "stream",
     "text": [
      "__on_new_signal fired\n",
      "Opening LONG position:\n",
      "\n",
      "{'direction': 'LONG',\n",
      " 'open_timestamp': datetime.datetime(2022, 3, 26, 20, 6, 57, 736645),\n",
      " 'status': 'open'}\n",
      "PositionManager.__on_open_position fired!\n",
      "\n",
      "Position Opened:\n",
      "{'direction': 'LONG', 'open_timestamp': datetime.datetime(2022, 3, 26, 20, 6, 57, 736645), 'status': 'open'}\n",
      "PositionManager.__on_close_position fired!\n",
      "\n",
      "Position Closed:\n",
      "{'direction': 'LONG', 'open_timestamp': datetime.datetime(2022, 3, 26, 20, 6, 57, 736645), 'status': 'open'}\n",
      "Opening LONG position:\n",
      "\n",
      "{'direction': 'LONG',\n",
      " 'open_timestamp': datetime.datetime(2022, 3, 26, 20, 6, 57, 737165),\n",
      " 'status': 'open'}\n",
      "PositionManager.__on_open_position fired!\n",
      "\n",
      "Position Opened:\n",
      "{'direction': 'LONG', 'open_timestamp': datetime.datetime(2022, 3, 26, 20, 6, 57, 737165), 'status': 'open'}\n",
      "PositionManager.__on_close_position fired!\n",
      "\n",
      "Position Closed:\n",
      "{'direction': 'LONG', 'open_timestamp': datetime.datetime(2022, 3, 26, 20, 6, 57, 737165), 'status': 'open'}\n"
     ]
    }
   ],
   "source": [
    "my_strategy.emulate_signal('LONG')"
   ],
   "metadata": {
    "collapsed": false,
    "pycharm": {
     "name": "#%%\n"
    }
   }
  },
  {
   "cell_type": "code",
   "execution_count": null,
   "outputs": [],
   "source": [],
   "metadata": {
    "collapsed": false,
    "pycharm": {
     "name": "#%%\n"
    }
   }
  }
 ],
 "metadata": {
  "kernelspec": {
   "display_name": "Python 3",
   "language": "python",
   "name": "python3"
  },
  "language_info": {
   "codemirror_mode": {
    "name": "ipython",
    "version": 2
   },
   "file_extension": ".py",
   "mimetype": "text/x-python",
   "name": "python",
   "nbconvert_exporter": "python",
   "pygments_lexer": "ipython2",
   "version": "2.7.6"
  }
 },
 "nbformat": 4,
 "nbformat_minor": 0
}