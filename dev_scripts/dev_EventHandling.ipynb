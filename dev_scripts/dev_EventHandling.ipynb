{
 "cells": [
  {
   "cell_type": "code",
   "execution_count": 152,
   "outputs": [],
   "source": [
    "from eventhandler import EventHandler\n",
    "from datetime import datetime\n",
    "\n",
    "from pprint import pprint\n",
    "\n",
    "\n",
    "class StrategyBase:\n",
    "\n",
    "    def __init__(self):\n",
    "        self.event_handler = EventHandler('newSignal')\n",
    "        self.event_handler.link(self.__on_new_signal, 'newSignal')\n",
    "\n",
    "    def __on_new_signal(self, signal):\n",
    "        print(\"=======[DEBUG]=========\\n\"\n",
    "              f\"StrategyBase.__on_new_signal fired!\\n\"\n",
    "              \"=======================\\n\")\n",
    "\n",
    "    def emulate_signal(self, signal):\n",
    "        self.event_handler.fire('newSignal', signal)\n"
   ],
   "metadata": {
    "collapsed": false,
    "pycharm": {
     "name": "#%%\n"
    }
   }
  },
  {
   "cell_type": "code",
   "execution_count": 157,
   "outputs": [],
   "source": [
    "class PositionManager:\n",
    "\n",
    "    def __init__(self, strategy: StrategyBase):\n",
    "        self.current_position = None\n",
    "        self.event_handler = EventHandler('onOpenPosition', 'onClosePosition')\n",
    "\n",
    "        self.event_handler.link(self.__on_open_position, 'onOpenPosition')\n",
    "        self.event_handler.link(self.__on_close_position, 'onClosePosition')\n",
    "\n",
    "\n",
    "        strategy.event_handler.link(self.open, 'newSignal')\n",
    "        strategy.event_handler.link(self.close, 'newSignal')\n",
    "\n",
    "    # This callback will be called when onOpenPosition event happens\n",
    "    def __on_open_position(self, position):\n",
    "        print(\"=======[DEBUG]=========\\n\"\n",
    "              \"PositionManager.__on_open_position fired!\\n\")\n",
    "        print(f\"Position Opened:\\n\"\n",
    "              f\"{position}\\n\"\n",
    "              \"=======================\\n\")\n",
    "        self.current_position = position\n",
    "\n",
    "    # This callback will be called when onClosePosition event happens\n",
    "    def __on_close_position(self, position):\n",
    "        print(\"=======[DEBUG]=========\\n\"\n",
    "              \"PositionManager.__on_close_position fired!\\n\")\n",
    "        print(f\"Position Closed:\\n\"\n",
    "              f\"{position}\"\n",
    "              \"=======================\\n\")\n",
    "\n",
    "    # Now let's define the public methods of the PositionManager to be used outside the class\n",
    "    def open(self, direction):\n",
    "        print(\"=======[DEBUG]=========\\n\"\n",
    "              \"PositionManager.open() called\\n\")\n",
    "\n",
    "        if direction != 'CLOSE':\n",
    "            position = {\n",
    "                \"direction\": direction,\n",
    "                \"open_timestamp\": datetime.utcnow().timestamp(),\n",
    "                \"status\": \"open\"\n",
    "            }\n",
    "            print(f\"Opening {direction} position:\\n\")\n",
    "            pprint(position)\n",
    "            print(\"\\nAbout to fire:\\n\"\n",
    "                  \"self.event_handler.fire('onOpenPosition', position)\\n\"\n",
    "                  \"=======================\\n\")\n",
    "\n",
    "            self.event_handler.fire('onOpenPosition', position)\n",
    "        else:\n",
    "            print(\"signal was CLOSE, so not opening\\n\"\n",
    "                  \"=======================\\n\")\n",
    "\n",
    "    def close(self, signal):\n",
    "        print(\"=======[DEBUG]=========\\n\"\n",
    "              \"PositionManager.close() called.\\n\")\n",
    "        if signal == 'CLOSE':\n",
    "            position = self.current_position\n",
    "\n",
    "            pprint(position)\n",
    "\n",
    "            if type(position) == dict:\n",
    "\n",
    "                print(\"=======[DEBUG]=========\\n\"\n",
    "                      \"PositionManager.open() called\\n\"\n",
    "                      f\"Closing Position:\\n\"\n",
    "                      f\"{position}\")\n",
    "                position['status'] = \"closed\"\n",
    "                position['close_timestamp'] = datetime.utcnow().timestamp()\n",
    "                print(\"About to fire:\\n\"\n",
    "                      \"self.event_handler.fire('onClosePosition', position)\\n\")\n",
    "                self.event_handler.fire('onClosePosition', position)\n",
    "        else:\n",
    "            print(\"signal was not CLOSE, so not closing\\n\"\n",
    "                  \"=======================\\n\")\n"
   ],
   "metadata": {
    "collapsed": false,
    "pycharm": {
     "name": "#%%\n"
    }
   }
  },
  {
   "cell_type": "code",
   "execution_count": 158,
   "outputs": [],
   "source": [
    "class Notifier:\n",
    "\n",
    "    def __init__(self, pm: PositionManager):\n",
    "\n",
    "        # self.event_handler = EventHandler()\n",
    "\n",
    "        pm.event_handler.link(self.send_telegram_notification, 'onOpenPosition')\n",
    "        pm.event_handler.link(self.send_telegram_notification, 'onClosePosition')\n",
    "\n",
    "    def send_telegram_notification(self, position):\n",
    "        print(\"Sending Telegram Notification...\\n\"\n",
    "              \"Position Info:\\n\")\n",
    "        pprint(position)\n"
   ],
   "metadata": {
    "collapsed": false,
    "pycharm": {
     "name": "#%%\n"
    }
   }
  },
  {
   "cell_type": "code",
   "execution_count": 159,
   "outputs": [
    {
     "name": "stdout",
     "output_type": "stream",
     "text": [
      "=======[DEBUG]=========\n",
      "StrategyBase.__on_new_signal fired!\n",
      "=======================\n",
      "\n",
      "=======[DEBUG]=========\n",
      "PositionManager.open() called\n",
      "\n",
      "Opening LONG position:\n",
      "\n",
      "{'direction': 'LONG', 'open_timestamp': 1648332854.739824, 'status': 'open'}\n",
      "\n",
      "About to fire:\n",
      "self.event_handler.fire('onOpenPosition', position)\n",
      "=======================\n",
      "\n",
      "=======[DEBUG]=========\n",
      "PositionManager.__on_open_position fired!\n",
      "\n",
      "Position Opened:\n",
      "{'direction': 'LONG', 'open_timestamp': 1648332854.739824, 'status': 'open'}\n",
      "=======================\n",
      "\n",
      "Sending Telegram Notification...\n",
      "Position Info:\n",
      "\n",
      "{'direction': 'LONG', 'open_timestamp': 1648332854.739824, 'status': 'open'}\n",
      "=======[DEBUG]=========\n",
      "PositionManager.close() called.\n",
      "\n",
      "signal was not CLOSE, so not closing\n",
      "=======================\n",
      "\n"
     ]
    }
   ],
   "source": [
    "my_strategy = StrategyBase()  # Must init with ()\n",
    "# pprint(dir(my_strategy))\n",
    "my_pm = PositionManager(my_strategy)\n",
    "\n",
    "my_notifier = Notifier(my_pm)\n",
    "\n",
    "my_strategy.emulate_signal('LONG')"
   ],
   "metadata": {
    "collapsed": false,
    "pycharm": {
     "name": "#%%\n"
    }
   }
  },
  {
   "cell_type": "code",
   "execution_count": 160,
   "outputs": [
    {
     "name": "stdout",
     "output_type": "stream",
     "text": [
      "=======================\n",
      "StrategyBase.__on_new_signal fired!\n",
      "=======================\n",
      "\n",
      "=======================\n",
      "PositionManager.open() called\n",
      "\n",
      "signal was CLOSE, so not opening\n",
      "=======================\n",
      "\n",
      "=======================\n",
      "PositionManager.close() called.\n",
      "\n",
      "{'direction': 'LONG', 'open_timestamp': 1648332854.739824, 'status': 'open'}\n",
      "=======================\n",
      "PositionManager.open() called\n",
      "Closing Position:\n",
      "{'direction': 'LONG', 'open_timestamp': 1648332854.739824, 'status': 'open'}\n",
      "About to fire:\n",
      "self.event_handler.fire('onClosePosition', position)\n",
      "\n",
      "=======================\n",
      "PositionManager.__on_close_position fired!\n",
      "\n",
      "Position Closed:\n",
      "{'direction': 'LONG', 'open_timestamp': 1648332854.739824, 'status': 'closed', 'close_timestamp': 1648332855.357236}=======================\n",
      "\n",
      "Sending Telegram Notification...\n",
      "Position Info:\n",
      "\n",
      "{'close_timestamp': 1648332855.357236,\n",
      " 'direction': 'LONG',\n",
      " 'open_timestamp': 1648332854.739824,\n",
      " 'status': 'closed'}\n"
     ]
    }
   ],
   "source": [
    "my_strategy.emulate_signal('CLOSE')"
   ],
   "metadata": {
    "collapsed": false,
    "pycharm": {
     "name": "#%%\n"
    }
   }
  },
  {
   "cell_type": "code",
   "execution_count": 156,
   "outputs": [],
   "source": [],
   "metadata": {
    "collapsed": false,
    "pycharm": {
     "name": "#%%\n"
    }
   }
  }
 ],
 "metadata": {
  "kernelspec": {
   "display_name": "Python 3",
   "language": "python",
   "name": "python3"
  },
  "language_info": {
   "codemirror_mode": {
    "name": "ipython",
    "version": 2
   },
   "file_extension": ".py",
   "mimetype": "text/x-python",
   "name": "python",
   "nbconvert_exporter": "python",
   "pygments_lexer": "ipython2",
   "version": "2.7.6"
  }
 },
 "nbformat": 4,
 "nbformat_minor": 0
}