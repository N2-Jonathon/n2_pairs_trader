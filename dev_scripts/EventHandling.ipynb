{
 "cells": [
  {
   "cell_type": "code",
   "execution_count": 4,
   "outputs": [],
   "source": [
    "from eventhandler import EventHandler\n",
    "from pprint import pprint\n",
    "\n",
    "class ChatRoom:\n",
    "    \"\"\"Simulates a chatroom environment with event handler implementation.\n",
    "\n",
    "    This is just a documented sample without pretensions. It is not a real class implementation.\n",
    "    \"\"\"\n",
    "\n",
    "    def __init__(self):\n",
    "        \"\"\"Initialize the chat room.\"\"\"\n",
    "        self.__messages = []  # Stores users messages\n",
    "        self.__users = {'bot': []}  # Stores a dictionary with registered usernames\n",
    "\n",
    "        # Define the event handler and make it public outside the class to let externals subscriptions to events.\n",
    "        self.event_handler = EventHandler('onNewuser', 'onMessage')  # Note that events names are cased sensitive.\n",
    "        # You can set any number of unique events and asing any number of unique callbacks to fire per event.\n",
    "        # Is not necessary define events names during initialization, also you can register the event names during\n",
    "        # run time using register_event method.\n",
    "\n",
    "        # Lets link some internal class methods to those events as callbacks.\n",
    "        # Limits are available resources.\n",
    "        self.event_handler.link(self.__on_newuser_join, 'onNewuser')\n",
    "        self.event_handler.link(self.__on_message, 'onMessage')\n",
    "\n",
    "    # Now lets define this two methods to dispatch the events\n",
    "    # Note this methods are not accesible outside class instance\n",
    "    # This calbback will be called when onNewUser event happens\n",
    "    def __on_newuser_join(self, user):\n",
    "        \"\"\"Shout in the output telling new user has joined chat room, when onNewuser event happens.\"\"\"\n",
    "        print(f'\\n** ChatRoom info ** user {user} has joined the chat ** {len(self.user_list())} user/s **\\n')\n",
    "\n",
    "    # This callback will be called when onMessage event happens\n",
    "    def __on_message(self, user, msg):\n",
    "        \"\"\"Print the user message in the output, when onMessage event happens.\"\"\"\n",
    "        print(f'{user} says:\\t {msg}')\n",
    "\n",
    "    # Now let's define the public methods of the chatroom to be used outside the class\n",
    "    def user_list(self):\n",
    "        \"\"\"Return a list of not bot users.\"\"\"\n",
    "        return [user for user in self.__users.keys() if user != 'bot']\n",
    "\n",
    "    def say(self, user, msg=None):\n",
    "        \"\"\"Let user (and bots) send a message to the chat room.\"\"\"\n",
    "        if not user in self.__users:\n",
    "            # if user is not registered fire onNewuser event and recibe it inside the class.\n",
    "            self.__users[user] = []\n",
    "            self.event_handler.fire('onNewuser', user)\n",
    "        if not msg:\n",
    "            return\n",
    "        if msg != '':\n",
    "            # Enqueue the message and fire onMessage event to be received internally by __on_message method.\n",
    "            self.__messages.append((user, msg))\n",
    "            self.event_handler.fire('onMessage', user, msg)\n",
    "\n",
    "\n",
    "class ChatBot:\n",
    "    \"\"\"Basic chatbot to link/subscribes to the chatroom class events and operate some interactions with users.\"\"\"\n",
    "\n",
    "    def __init__(self, chatroom: ChatRoom, name: str = 'bot'):\n",
    "        self.chatroom = chatroom\n",
    "        self.name = name\n",
    "\n",
    "        # Subscribe to external ChatRoom class events\n",
    "        chatroom.event_handler.link(self.saludate_new_user, 'onNewuser')\n",
    "        chatroom.event_handler.link(self.read_user_message, 'onMessage')\n",
    "\n",
    "    # When chatroom fires the onNewUser event our bot will saludate will link this method.\n",
    "    def saludate_new_user(self, user):\n",
    "        \"\"\"Bot saludates the user.\"\"\"\n",
    "        chat.say('bot', f'Hello {user}, welcome to the chat room.')\n",
    "\n",
    "    # When chatroom fires the onNewMessage event process it and broadcast some output to the chatroom if possible.\n",
    "    def read_user_message(self, user, msg):\n",
    "        \"\"\"Read user messages and act in consequece.\"\"\"\n",
    "        if user == 'bot':\n",
    "            # Please don't process yourself messages bot...\n",
    "            return\n",
    "\n",
    "        # check if the recibed message is answerable and reply if possible\n",
    "        if msg == f'Hey {self.name}, are there anyone here?':\n",
    "            if len(self.chatroom.user_list()) == 1:\n",
    "                self.chatroom.say(self.name, f'Nope {user}. Just you and me.')\n",
    "            else:\n",
    "                self.chatroom.say(self.name, f'Yes {user}. '\n",
    "                f'there are {len(self.chatroom.user_list()) - 1} non bots users in the room, you, and me.')\n",
    "        return"
   ],
   "metadata": {
    "collapsed": false,
    "pycharm": {
     "name": "#%%\n"
    }
   }
  },
  {
   "cell_type": "code",
   "execution_count": 5,
   "outputs": [
    {
     "name": "stdout",
     "output_type": "stream",
     "text": [
      "['_ChatRoom__messages',\n",
      " '_ChatRoom__on_message',\n",
      " '_ChatRoom__on_newuser_join',\n",
      " '_ChatRoom__users',\n",
      " '__class__',\n",
      " '__delattr__',\n",
      " '__dict__',\n",
      " '__dir__',\n",
      " '__doc__',\n",
      " '__eq__',\n",
      " '__format__',\n",
      " '__ge__',\n",
      " '__getattribute__',\n",
      " '__gt__',\n",
      " '__hash__',\n",
      " '__init__',\n",
      " '__init_subclass__',\n",
      " '__le__',\n",
      " '__lt__',\n",
      " '__module__',\n",
      " '__ne__',\n",
      " '__new__',\n",
      " '__reduce__',\n",
      " '__reduce_ex__',\n",
      " '__repr__',\n",
      " '__setattr__',\n",
      " '__sizeof__',\n",
      " '__str__',\n",
      " '__subclasshook__',\n",
      " '__weakref__',\n",
      " 'event_handler',\n",
      " 'say',\n",
      " 'user_list']\n"
     ]
    }
   ],
   "source": [
    "# Create the chatroom\n",
    "chat = ChatRoom()\n",
    "pprint(dir(chat))"
   ],
   "metadata": {
    "collapsed": false,
    "pycharm": {
     "name": "#%%\n"
    }
   }
  },
  {
   "cell_type": "code",
   "execution_count": null,
   "outputs": [],
   "source": [
    "\n",
    "\n",
    "\n",
    "# Initilize ChatBot class with the ChatRoom instance as param to let subscribe it to the chat events.\n",
    "bot = ChatBot(chat)\n",
    "\n",
    "print(\"Chatroom's EventHandler object representation...\")\n",
    "print(f'{chat.event_handler}\\n') # You can watch all events and their each one list of callbacks printing the object\n",
    "\n",
    "\n",
    "# Now the chat simulation. The first user interaction will send a message onNewuser event will be fired and\n",
    "# managed by the bot. All messages (onMessage event) will be reached by the bot.\n",
    "chat.say('sergio', 'Hello World!')\n",
    "chat.say('sergio', 'Hey bot, are there anyone here?')\n",
    "chat.say('david', 'Hello everybody!')\n",
    "chat.say('david', 'Hey bot, are there anyone here?')\n",
    "chat.say('sergio', 'Hi david!')\n",
    "chat.say('kate')\n",
    "chat.say('kate', 'Hey bot, are there anyone here?')"
   ],
   "metadata": {
    "collapsed": false,
    "pycharm": {
     "name": "#%%\n"
    }
   }
  },
  {
   "cell_type": "code",
   "execution_count": null,
   "outputs": [],
   "source": [],
   "metadata": {
    "collapsed": false,
    "pycharm": {
     "name": "#%%\n"
    }
   }
  }
 ],
 "metadata": {
  "kernelspec": {
   "display_name": "Python 3",
   "language": "python",
   "name": "python3"
  },
  "language_info": {
   "codemirror_mode": {
    "name": "ipython",
    "version": 2
   },
   "file_extension": ".py",
   "mimetype": "text/x-python",
   "name": "python",
   "nbconvert_exporter": "python",
   "pygments_lexer": "ipython2",
   "version": "2.7.6"
  }
 },
 "nbformat": 4,
 "nbformat_minor": 0
}