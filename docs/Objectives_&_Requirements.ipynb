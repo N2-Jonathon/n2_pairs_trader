{
 "cells": [
  {
   "cell_type": "markdown",
   "metadata": {
    "collapsed": true,
    "pycharm": {
     "name": "#%% md\n"
    }
   },
   "source": [
    "# Objectives & Requirements Interactive docs\n",
    "\n",
    "This is a platform that's designed for pairs trading strategies.\n",
    "\n",
    "Pairs trading is when you take two tradeable pairs eg. `ETH/USDT` and `BTC/USDT` and combine them to make what can be called an 'artificial', 'synthetic', or 'double' pair (I may use those names interchangeably in these docs) by dividing each of the OHLCV data points in the base currency by the quote currency ie. `ETHUSDT/BTCUSDT`\n",
    "\n",
    "Each position in a pairs trade is composed of at least two trades, with one for each sub-pair:\n",
    "\n",
    "- To open a short position on the artificial pair `ETHUSDT/BTCUSDT`, that requires going short on the base pair `ETH/USDT` (ie. Sell ETH for USDT), and then going long on the quote pair `BTC/USDT` (ie. Buy BTC with USDT)\n",
    "- Conversely, to open a long position on `ETHUSDT/BTCUSDT`, that requires going short on the quote pair `BTC/USDT` (ie. Sell BTC for USDT), and then going long on the base pair `ETH/USDT` (ie. Buy ETH with USDT)\n",
    "- The position's PnL is calculated by adding the PnL from each trade together.\n",
    "\n",
    "The reason the short trade should be opened before the long trade, is so that borrowed margin can be used to sell the short asset, and the resulting asset from that trade can be funneled into the long trade.\n",
    "\n",
    "\n",
    "---\n",
    "## **ETH/USDT|D1|KUCOIN**\n",
    "![ETH/USDT:D1:KUCOIN - 2022-03-13 22-35-29](images/ETHUSDT-D1-KUCOIN%20-%202022-03-13%2022-35-29.png)\n",
    "\n",
    "---\n",
    "## BTC/USDT:D1:KUCOIN\n",
    "![BTC/USDT:D1:KUCOIN - 2022-03-13 22-34-17](images/BTCUSDT:D1:KUCOIN%20-%20%202022-03-13%2022-34-17.png)\n",
    "\n",
    "---\n",
    "## ETHUSDT/BTCUSDT:D1:KUCOIN\n",
    "![ETHUSDT/BTCUSDT:D1:KUCOIN - 2022-03-13 22-35-29](images/ETHUSDT-BTCUSDT:D1:KUCOIN%20-%202022-03-13%2022-40-24.png)"
   ]
  },
  {
   "cell_type": "markdown",
   "source": [
    "Each strategy file can inherit the `StrategyBase` class from `strategies.strategy_base`, and has the following attributes:\n",
    "```python\n",
    "from core.position_manager import PositionManager\n",
    "__dict__ = {\n",
    "        \"exchange\": str,\n",
    "        \"strategy_name\": str,\n",
    "        \"strategy\": None,  # : StrategyBase, (Caused circular import when setting type to StrategyBase)\n",
    "        \"prompt_for_pairs\": bool,\n",
    "        \"base_pair\": str,\n",
    "        \"quote_pair\": str,\n",
    "        \"synth_pair\": str,  # Not sure if this is set by __init__ yet\n",
    "        \"stake_currency\": str,\n",
    "        \"paper_trade\": bool,\n",
    "\n",
    "        \"position_manager\": PositionManager,\n",
    "    }\n",
    "\n",
    "```\n",
    "- You can initialize any sub-class of StrategyBase by either calling `strategy: StrategyBase = YourStrategyClassName()`\n",
    "- So, with the example of `n2_supertrend`, it has a class name of `N2SuperTrend` and can be initialized by calling `strategy = N2SuperTrend()`\n",
    "- If called like that without any params, it will load the values from `~/n2_pairs_trader/user/user-config.ini`. This is meant to be the default way to initialize:\n",
    "  ```python\n",
    "  from strategies.n2_supertrend import N2SuperTrend\n",
    "\n",
    "  strategy = N2SuperTrend()\n",
    "  ```\n",
    "- It's also possible to initialize and provide params, eg.\n",
    "  ```python\n",
    "  from strategies.n2_supertrend import N2SuperTrend\n",
    "  from core.exchanges.kucoin_extended import kucoin_extended\n",
    "  strategy = N2SuperTrend(exchange=)\n",
    "  ```\n"
   ],
   "metadata": {
    "collapsed": false,
    "pycharm": {
     "name": "#%% md\n"
    }
   }
  },
  {
   "cell_type": "code",
   "execution_count": 9,
   "outputs": [
    {
     "ename": "TypeError",
     "evalue": "N2SuperTrend.__init__() missing 4 required positional arguments: 'exchange', 'config', 'base_pair', and 'quote_pair'",
     "output_type": "error",
     "traceback": [
      "\u001B[0;31m---------------------------------------------------------------------------\u001B[0m",
      "\u001B[0;31mTypeError\u001B[0m                                 Traceback (most recent call last)",
      "Input \u001B[0;32mIn [9]\u001B[0m, in \u001B[0;36m<cell line: 2>\u001B[0;34m()\u001B[0m\n\u001B[1;32m      1\u001B[0m \u001B[38;5;28;01mfrom\u001B[39;00m \u001B[38;5;21;01mstrategies\u001B[39;00m\u001B[38;5;21;01m.\u001B[39;00m\u001B[38;5;21;01mn2_supertrend\u001B[39;00m \u001B[38;5;28;01mimport\u001B[39;00m N2SuperTrend\n\u001B[0;32m----> 2\u001B[0m strategy \u001B[38;5;241m=\u001B[39m \u001B[43mN2SuperTrend\u001B[49m\u001B[43m(\u001B[49m\u001B[43m)\u001B[49m\n",
      "\u001B[0;31mTypeError\u001B[0m: N2SuperTrend.__init__() missing 4 required positional arguments: 'exchange', 'config', 'base_pair', and 'quote_pair'"
     ]
    }
   ],
   "source": [
    "from strategies.n2_supertrend import N2SuperTrend\n",
    "strategy = N2SuperTrend()"
   ],
   "metadata": {
    "collapsed": false,
    "pycharm": {
     "name": "#%%\n"
    }
   }
  },
  {
   "cell_type": "code",
   "execution_count": null,
   "outputs": [],
   "source": [],
   "metadata": {
    "collapsed": false,
    "pycharm": {
     "name": "#%%\n"
    }
   }
  }
 ],
 "metadata": {
  "kernelspec": {
   "display_name": "Python 3",
   "language": "python",
   "name": "python3"
  },
  "language_info": {
   "codemirror_mode": {
    "name": "ipython",
    "version": 2
   },
   "file_extension": ".py",
   "mimetype": "text/x-python",
   "name": "python",
   "nbconvert_exporter": "python",
   "pygments_lexer": "ipython2",
   "version": "2.7.6"
  }
 },
 "nbformat": 4,
 "nbformat_minor": 0
}