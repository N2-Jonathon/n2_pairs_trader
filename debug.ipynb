{
 "cells": [
  {
   "cell_type": "code",
   "execution_count": 2,
   "metadata": {
    "collapsed": true
   },
   "outputs": [],
   "source": [
    "import asyncio\n",
    "import threading\n",
    "import ccxt\n",
    "import configparser\n",
    "import pandas as pd\n",
    "import time\n",
    "import warnings\n",
    "\n",
    "from indicators import supertrend\n",
    "from utilities import check_buy_sell_signals, create_synthetic_pair\n",
    "from position_manager import Position\n",
    "\n",
    "pd.set_option('display.max_rows', None)\n",
    "warnings.filterwarnings('ignore')\n",
    "\n",
    "config = configparser.ConfigParser()\n",
    "config.read(\"config.ini\")\n",
    "\n",
    "\n",
    "exchange = ccxt.kucoin({\n",
    "  \"apiKey\": config['KuCoin']['apiKey'],\n",
    "  \"secret\": config['KuCoin']['secret'],\n",
    "  \"password\": config['KuCoin']['password']\n",
    "})"
   ]
  },
  {
   "cell_type": "code",
   "execution_count": 11,
   "outputs": [],
   "source": [
    "# had to make this non-async to work in jupyter\n",
    "# in main.py\n",
    "# This is instead of\n",
    "# async def main()\n",
    "def main(base_pair=config['Bot Settings']['base_pair_default'],\n",
    "         quote_pair=config['Bot Settings']['quote_pair_default']):\n",
    "\n",
    "    running = True\n",
    "\n",
    "    while running:\n",
    "        # This code is for one timeframe. Later, do the same iterated for each timeframe.\n",
    "        base_bars = exchange.fetch_ohlcv(base_pair, timeframe=\"1m\", limit=50)\n",
    "        quote_bars = exchange.fetch_ohlcv(quote_pair, timeframe=\"1m\", limit=50)\n",
    "\n",
    "        pair = create_synthetic_pair(base_bars, quote_bars)\n",
    "\n",
    "        supertrend_data = supertrend(pair)\n",
    "\n",
    "        signal = check_buy_sell_signals(supertrend_data)\n",
    "        print(f\"Signal: {signal}\")\n",
    "\n",
    "        if signal.higher == \"LONG\":\n",
    "            live_position = Position().open()\n",
    "            pass\n",
    "        elif signal.higher == \"SHORT\":\n",
    "            live_position = Position().open()\n",
    "            pass\n",
    "\n",
    "        # await asyncio.sleep(60)\n",
    "        time.sleep(60)"
   ],
   "metadata": {
    "collapsed": false,
    "pycharm": {
     "name": "#%%\n"
    }
   }
  },
  {
   "cell_type": "markdown",
   "source": [
    "# This is how the main function is called in `main.py`:\n",
    "`asyncio.run(main())`\n",
    "Maybe this will change later, but it's fine for now."
   ],
   "metadata": {
    "collapsed": false,
    "pycharm": {
     "name": "#%% md\n"
    }
   }
  },
  {
   "cell_type": "markdown",
   "source": [
    "\"\"\" Position Class ./position_manager.py\n",
    "# import statement:\n",
    "# from position_manager import Position\n",
    "\n",
    "`def open(self, exchange, synth_pair, base_pair, quote_pair, borrow_coin, borrow_qty, direction,\n",
    "             order_type='market', prompt_borrow_confirmation=False):`\n",
    "\"\"\"\n",
    "\n",
    "position_example = Position().open(exchange, 'ETHUSDT/BTCUSDT', 'ETHUSD', 'BTCUSD', )"
   ],
   "metadata": {
    "collapsed": false,
    "pycharm": {
     "name": "#%% md\n"
    }
   }
  },
  {
   "cell_type": "markdown",
   "source": [],
   "metadata": {
    "collapsed": false
   }
  },
  {
   "cell_type": "markdown",
   "source": [],
   "metadata": {
    "collapsed": false
   }
  }
 ],
 "metadata": {
  "kernelspec": {
   "display_name": "Python 3",
   "language": "python",
   "name": "python3"
  },
  "language_info": {
   "codemirror_mode": {
    "name": "ipython",
    "version": 2
   },
   "file_extension": ".py",
   "mimetype": "text/x-python",
   "name": "python",
   "nbconvert_exporter": "python",
   "pygments_lexer": "ipython2",
   "version": "2.7.6"
  }
 },
 "nbformat": 4,
 "nbformat_minor": 0
}