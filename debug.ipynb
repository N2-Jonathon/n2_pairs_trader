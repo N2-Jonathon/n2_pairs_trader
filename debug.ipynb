{
 "cells": [
  {
   "cell_type": "code",
   "execution_count": 2,
   "metadata": {
    "collapsed": true
   },
   "outputs": [],
   "source": [
    "import asyncio\n",
    "import threading\n",
    "import ccxt\n",
    "import configparser\n",
    "import pandas as pd\n",
    "import time\n",
    "import warnings\n",
    "\n",
    "from indicators import supertrend\n",
    "from utils import check_buy_sell_signals, create_synthetic_pair\n",
    "from position_manager import Position\n",
    "\n",
    "pd.set_option('display.max_rows', None)\n",
    "warnings.filterwarnings('ignore')\n",
    "\n",
    "config = configparser.ConfigParser()\n",
    "config.read(\"config.ini\")\n",
    "\n",
    "\n",
    "exchange = ccxt.kucoin({\n",
    "  \"apiKey\": config['KuCoin']['apiKey'],\n",
    "  \"secret\": config['KuCoin']['secret'],\n",
    "  \"password\": config['KuCoin']['password']\n",
    "})"
   ]
  },
  {
   "cell_type": "code",
   "execution_count": 11,
   "outputs": [],
   "source": [
    "# had to make this non-async to work in jupyter\n",
    "# in main.py\n",
    "# This is instead of\n",
    "# async def main()\n",
    "def main(base_pair=config['Global Settings']['base_pair_default'],\n",
    "         quote_pair=config['Global Settings']['quote_pair_default']):\n",
    "\n",
    "    running = True\n",
    "\n",
    "    while running:\n",
    "        # This code is for one timeframe. Later, do the same iterated for each timeframe.\n",
    "        base_bars = exchange.fetch_ohlcv(base_pair, timeframe=\"1m\", limit=50)\n",
    "        quote_bars = exchange.fetch_ohlcv(quote_pair, timeframe=\"1m\", limit=50)\n",
    "\n",
    "        pair = create_synthetic_pair(base_bars, quote_bars)\n",
    "\n",
    "        supertrend_data = supertrend(pair)\n",
    "\n",
    "        signal = check_buy_sell_signals(supertrend_data)\n",
    "        print(f\"Signal: {signal}\")\n",
    "\n",
    "        if signal.higher == \"LONG\":\n",
    "            live_position = Position().open()\n",
    "            pass\n",
    "        elif signal.higher == \"SHORT\":\n",
    "            live_position = Position().open()\n",
    "            pass\n",
    "\n",
    "        # await asyncio.sleep(60)\n",
    "        time.sleep(60)"
   ],
   "metadata": {
    "collapsed": false,
    "pycharm": {
     "name": "#%%\n"
    }
   }
  },
  {
   "cell_type": "markdown",
   "source": [
    "# This is how the main function is called in `main.py`:\n",
    "`asyncio.run(main())`\n",
    "Maybe this will change later, but it's fine for now."
   ],
   "metadata": {
    "collapsed": false,
    "pycharm": {
     "name": "#%% md\n"
    }
   }
  },
  {
   "cell_type": "markdown",
   "source": [],
   "metadata": {
    "collapsed": false,
    "pycharm": {
     "name": "#%% md\n"
    }
   }
  },
  {
   "cell_type": "code",
   "source": [
    "    ex = ccxt.kucoin\n",
    "    available_margin = exchange.fetch_borrow_rate('USDT')\n",
    "    print(available_margin)"
   ],
   "metadata": {
    "collapsed": false,
    "pycharm": {
     "name": "#%%\n"
    }
   },
   "execution_count": 19,
   "outputs": [
    {
     "ename": "NotSupported",
     "evalue": "kucoinfetchBorrowRate() is not supported yet",
     "output_type": "error",
     "traceback": [
      "\u001B[0;31m---------------------------------------------------------------------------\u001B[0m",
      "\u001B[0;31mNotSupported\u001B[0m                              Traceback (most recent call last)",
      "Input \u001B[0;32mIn [19]\u001B[0m, in \u001B[0;36m<cell line: 2>\u001B[0;34m()\u001B[0m\n\u001B[1;32m      1\u001B[0m ex \u001B[38;5;241m=\u001B[39m ccxt\u001B[38;5;241m.\u001B[39mkucoin\n\u001B[0;32m----> 2\u001B[0m available_margin \u001B[38;5;241m=\u001B[39m \u001B[43mexchange\u001B[49m\u001B[38;5;241;43m.\u001B[39;49m\u001B[43mfetch_borrow_rate\u001B[49m\u001B[43m(\u001B[49m\u001B[38;5;124;43m'\u001B[39;49m\u001B[38;5;124;43mUSDT\u001B[39;49m\u001B[38;5;124;43m'\u001B[39;49m\u001B[43m)\u001B[49m\n\u001B[1;32m      3\u001B[0m \u001B[38;5;28mprint\u001B[39m(available_margin)\n",
      "File \u001B[0;32m~/Developer/freelance/@N2_Capital/n2_ccxt_supertrend/venv/lib/python3.10/site-packages/ccxt/base/exchange.py:2757\u001B[0m, in \u001B[0;36mExchange.fetch_borrow_rate\u001B[0;34m(self, code, params)\u001B[0m\n\u001B[1;32m   2755\u001B[0m \u001B[38;5;28mself\u001B[39m\u001B[38;5;241m.\u001B[39mload_markets()\n\u001B[1;32m   2756\u001B[0m \u001B[38;5;28;01mif\u001B[39;00m \u001B[38;5;129;01mnot\u001B[39;00m \u001B[38;5;28mself\u001B[39m\u001B[38;5;241m.\u001B[39mhas[\u001B[38;5;124m'\u001B[39m\u001B[38;5;124mfetchBorrowRates\u001B[39m\u001B[38;5;124m'\u001B[39m]:\n\u001B[0;32m-> 2757\u001B[0m     \u001B[38;5;28;01mraise\u001B[39;00m NotSupported(\u001B[38;5;28mself\u001B[39m\u001B[38;5;241m.\u001B[39mid \u001B[38;5;241m+\u001B[39m \u001B[38;5;124m'\u001B[39m\u001B[38;5;124mfetchBorrowRate() is not supported yet\u001B[39m\u001B[38;5;124m'\u001B[39m)\n\u001B[1;32m   2758\u001B[0m borrow_rates \u001B[38;5;241m=\u001B[39m \u001B[38;5;28mself\u001B[39m\u001B[38;5;241m.\u001B[39mfetch_borrow_rates(params)\n\u001B[1;32m   2759\u001B[0m rate \u001B[38;5;241m=\u001B[39m \u001B[38;5;28mself\u001B[39m\u001B[38;5;241m.\u001B[39msafe_value(borrow_rates, code)\n",
      "\u001B[0;31mNotSupported\u001B[0m: kucoinfetchBorrowRate() is not supported yet"
     ]
    }
   ]
  },
  {
   "cell_type": "markdown",
   "source": [
    "When I try to call `exchange.fetch_borrow_rate()` for KuCoin I get the following error:\n",
    "\n",
    "**NotSupported**: kucoinfetchBorrowRate() is not supported yet\n",
    "\n",
    "***Traceback***:\n",
    "```\n",
    "File ~/Developer/freelance/@N2_Capital/n2_ccxt_supertrend/venv/lib/python3.10/site-packages/ccxt/base/exchange.py:2757, in Exchange.fetch_borrow_rate(self, code, params)\n",
    "   2755 self.load_markets()\n",
    "   2756 if not self.has['fetchBorrowRates']:\n",
    "-> 2757     raise NotSupported(self.id + 'fetchBorrowRate() is not supported yet')\n",
    "   2758 borrow_rates = self.fetch_borrow_rates(params)\n",
    "   2759 rate = self.safe_value(borrow_rates, code)\n",
    "```\n",
    "\n",
    "So, I created a new file in venv/lib/python3.10/ccxt/mods/base/exchange/fetch_borrow_rate_mod\n",
    "where to handle this part myself directly with the KuCoin API and return the borrow rate.\n",
    "\n",
    "***Modified to***:\n",
    "```\n",
    "File ~/Developer/freelance/@N2_Capital/n2_ccxt_supertrend/venv/lib/python3.10/site-packages/ccxt/base/exchange.py:2757, in Exchange.fetch_borrow_rate(self, code, params)\n",
    "    self.load_markets()\n",
    "\n",
    "    if not self.has['fetchBorrowRates']:\n",
    "+       from ccxt.mods.base.exchange.fetch_borrow_rate_mod import fetch_borrow_rate_mod\n",
    "+       borrow_rates = fetch_borrow_rate_mod(params)\n",
    "+       # I have commented out the NotSupported Error from the standard ccxt library\n",
    "+       # raise NotSupported(self.id + 'fetchBorrowRate() is not supported yet')\n",
    "    elif self.has['fetchBorrowRates']:\n",
    "        borrow_rates = self.fetch_borrow_rates(params)\n",
    "\n",
    "    rate = self.safe_value(borrow_rates, code)\n",
    "```"
   ],
   "metadata": {
    "collapsed": false
   }
  },
  {
   "cell_type": "code",
   "execution_count": 19,
   "outputs": [],
   "source": [
    "from ccxt.base.exchange import fetch_borrow_rate\n"
   ],
   "metadata": {
    "collapsed": false,
    "pycharm": {
     "name": "#%%\n"
    }
   }
  },
  {
   "cell_type": "code",
   "execution_count": null,
   "outputs": [],
   "source": [
    "def open_long(self, base_pair, quote_pair, borrow_coin, prompt_borrow: bool, borrow_qty=None):\n",
    "        # ----------------------------------------\n",
    "        # Step 1: Query exchange to fetch max\n",
    "        # [TODO]  borrow quantity of borrow_coin\n",
    "        #         borrow_coin will be base coin\n",
    "        #         eg. BTC\n",
    "        #         of the quote_pair\n",
    "        #         eg. BTCUSDT\n",
    "\n",
    "\n",
    "        # available_margin = self.exchange\n",
    "\n",
    "\n",
    "        # ----------------------------------------\n",
    "        # Step 2: If prompt_borrow is true, print\n",
    "        # [TODO]  the max borrow amount retrieved\n",
    "        #         in step 1, then prompt the user\n",
    "        #         to either accept the max amount\n",
    "        #         or instead enter an amount.\n",
    "        # ----------------------------------------\n",
    "        # Step 3: Borrow from the exchange in the\n",
    "        # [TODO]  desired quantity\n",
    "        # ----------------------------------------\n",
    "        # Step 4: Sell quote pair using the coins\n",
    "        # [TODO]  borrowed in step 3.\n",
    "        #         eg. Sell BTC for USDT\n",
    "        # ----------------------------------------\n",
    "        # Step 5: Buy the base coin of the base\n",
    "        # [TODO]  pair using the quote coin of the\n",
    "        #         base pair.\n",
    "        #         eg. Buy ETH with USDT\n",
    "        # ----------------------------------------\n",
    "        # Step 6: Generate & Send Email with all\n",
    "        # [TODO]  of the details about the open\n",
    "        #         position included.\n",
    "        pass"
   ],
   "metadata": {
    "collapsed": false,
    "pycharm": {
     "name": "#%%\n"
    }
   }
  }
 ],
 "metadata": {
  "kernelspec": {
   "display_name": "Python 3",
   "language": "python",
   "name": "python3"
  },
  "language_info": {
   "codemirror_mode": {
    "name": "ipython",
    "version": 2
   },
   "file_extension": ".py",
   "mimetype": "text/x-python",
   "name": "python",
   "nbconvert_exporter": "python",
   "pygments_lexer": "ipython2",
   "version": "2.7.6"
  }
 },
 "nbformat": 4,
 "nbformat_minor": 0
}