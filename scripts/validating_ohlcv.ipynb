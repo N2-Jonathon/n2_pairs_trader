{
 "cells": [
  {
   "cell_type": "markdown",
   "metadata": {
    "collapsed": true,
    "pycharm": {
     "name": "#%% md\n"
    }
   },
   "source": [
    "# Validating OHLCV with ***finta.inputvalidator***\n",
    "FinTA is a popular library for technical analysis indicators and tools, which includes an OHLCV input validator.\n",
    "\n",
    "Since it's not well documented, I'm going to figure out how it works and document the parts I need."
   ]
  },
  {
   "cell_type": "code",
   "execution_count": null,
   "outputs": [],
   "source": [],
   "metadata": {
    "collapsed": false,
    "pycharm": {
     "name": "#%%\n"
    }
   }
  },
  {
   "cell_type": "code",
   "execution_count": 14,
   "outputs": [
    {
     "name": "stdout",
     "output_type": "stream",
     "text": [
      "/home/jonathon/Developer/freelance/@N2_Capital/n2_pairs_trader/scripts/user/user-config.ini\n"
     ]
    },
    {
     "ename": "ValueError",
     "evalue": "Failed to read from config (Make sure all values are assigned)",
     "output_type": "error",
     "traceback": [
      "\u001B[0;31m---------------------------------------------------------------------------\u001B[0m",
      "\u001B[0;31mKeyError\u001B[0m                                  Traceback (most recent call last)",
      "File \u001B[0;32m~/Developer/freelance/@N2_Capital/n2_pairs_trader/core/config.py:59\u001B[0m, in \u001B[0;36mConfig.__init__\u001B[0;34m(self, params, config_filepath)\u001B[0m\n\u001B[1;32m     58\u001B[0m \u001B[38;5;28;01mtry\u001B[39;00m:\n\u001B[0;32m---> 59\u001B[0m     \u001B[38;5;28mself\u001B[39m\u001B[38;5;241m.\u001B[39mexchange_id \u001B[38;5;241m=\u001B[39m \u001B[38;5;28;43mself\u001B[39;49m\u001B[38;5;241;43m.\u001B[39;49m\u001B[43muser_config\u001B[49m\u001B[43m[\u001B[49m\u001B[38;5;124;43m'\u001B[39;49m\u001B[38;5;124;43mGlobal Settings\u001B[39;49m\u001B[38;5;124;43m'\u001B[39;49m\u001B[43m]\u001B[49m[\u001B[38;5;124m'\u001B[39m\u001B[38;5;124mexchange\u001B[39m\u001B[38;5;124m'\u001B[39m]\n\u001B[1;32m     60\u001B[0m     \u001B[38;5;28mself\u001B[39m\u001B[38;5;241m.\u001B[39mstrategy_name \u001B[38;5;241m=\u001B[39m \u001B[38;5;28mself\u001B[39m\u001B[38;5;241m.\u001B[39muser_config[\u001B[38;5;124m'\u001B[39m\u001B[38;5;124mGlobal Settings\u001B[39m\u001B[38;5;124m'\u001B[39m][\u001B[38;5;124m'\u001B[39m\u001B[38;5;124mstrategy\u001B[39m\u001B[38;5;124m'\u001B[39m]\n",
      "File \u001B[0;32m/usr/lib/python3.10/configparser.py:964\u001B[0m, in \u001B[0;36mRawConfigParser.__getitem__\u001B[0;34m(self, key)\u001B[0m\n\u001B[1;32m    963\u001B[0m \u001B[38;5;28;01mif\u001B[39;00m key \u001B[38;5;241m!=\u001B[39m \u001B[38;5;28mself\u001B[39m\u001B[38;5;241m.\u001B[39mdefault_section \u001B[38;5;129;01mand\u001B[39;00m \u001B[38;5;129;01mnot\u001B[39;00m \u001B[38;5;28mself\u001B[39m\u001B[38;5;241m.\u001B[39mhas_section(key):\n\u001B[0;32m--> 964\u001B[0m     \u001B[38;5;28;01mraise\u001B[39;00m \u001B[38;5;167;01mKeyError\u001B[39;00m(key)\n\u001B[1;32m    965\u001B[0m \u001B[38;5;28;01mreturn\u001B[39;00m \u001B[38;5;28mself\u001B[39m\u001B[38;5;241m.\u001B[39m_proxies[key]\n",
      "\u001B[0;31mKeyError\u001B[0m: 'Global Settings'",
      "\nDuring handling of the above exception, another exception occurred:\n",
      "\u001B[0;31mValueError\u001B[0m                                Traceback (most recent call last)",
      "Input \u001B[0;32mIn [14]\u001B[0m, in \u001B[0;36m<cell line: 7>\u001B[0;34m()\u001B[0m\n\u001B[1;32m      3\u001B[0m \u001B[38;5;28;01mfrom\u001B[39;00m \u001B[38;5;21;01mstrategies\u001B[39;00m\u001B[38;5;21;01m.\u001B[39;00m\u001B[38;5;21;01mstrategy_base\u001B[39;00m \u001B[38;5;28;01mimport\u001B[39;00m StrategyBase\n\u001B[1;32m      5\u001B[0m \u001B[38;5;28mprint\u001B[39m(USER_CONFIG_FILEPATH)\n\u001B[0;32m----> 7\u001B[0m s \u001B[38;5;241m=\u001B[39m \u001B[43mStrategyBase\u001B[49m\u001B[43m(\u001B[49m\u001B[43mconfig_filepath\u001B[49m\u001B[38;5;241;43m=\u001B[39;49m\u001B[43mUSER_CONFIG_FILEPATH\u001B[49m\u001B[43m)\u001B[49m\n",
      "File \u001B[0;32m~/Developer/freelance/@N2_Capital/n2_pairs_trader/core/config.py:72\u001B[0m, in \u001B[0;36mConfig.__init__\u001B[0;34m(self, params, config_filepath)\u001B[0m\n\u001B[1;32m     69\u001B[0m         \u001B[38;5;66;03m# self.strategy = importlib.import_module(f\"strategies.{self.strategy_name}\")\u001B[39;00m\n\u001B[1;32m     70\u001B[0m         \u001B[38;5;66;03m# self.exchange: ccxt.Exchange = self.enabled_exchanges[self.exchange_id]\u001B[39;00m\n\u001B[1;32m     71\u001B[0m     \u001B[38;5;28;01mexcept\u001B[39;00m:\n\u001B[0;32m---> 72\u001B[0m         \u001B[38;5;28;01mraise\u001B[39;00m \u001B[38;5;167;01mValueError\u001B[39;00m(\u001B[38;5;124m\"\u001B[39m\u001B[38;5;124mFailed to read from config (Make sure all values are assigned)\u001B[39m\u001B[38;5;124m\"\u001B[39m)\n\u001B[1;32m     73\u001B[0m \u001B[38;5;28;01melif\u001B[39;00m \u001B[38;5;28mself\u001B[39m\u001B[38;5;241m.\u001B[39mparams \u001B[38;5;129;01mis\u001B[39;00m \u001B[38;5;129;01mnot\u001B[39;00m \u001B[38;5;28;01mNone\u001B[39;00m:\n\u001B[1;32m     74\u001B[0m     \u001B[38;5;28;01mfor\u001B[39;00m param \u001B[38;5;129;01min\u001B[39;00m \u001B[38;5;28mself\u001B[39m\u001B[38;5;241m.\u001B[39mparams:\n",
      "\u001B[0;31mValueError\u001B[0m: Failed to read from config (Make sure all values are assigned)"
     ]
    }
   ],
   "source": [
    "from constants import USER_CONFIG_FILEPATH\n",
    "from finta.finta import inputvalidator as ival\n",
    "from strategies.strategy_base import StrategyBase\n",
    "\n",
    "print(USER_CONFIG_FILEPATH)\n",
    "\n",
    "s = StrategyBase(config_filepath=USER_CONFIG_FILEPATH)\n"
   ],
   "metadata": {
    "collapsed": false,
    "pycharm": {
     "name": "#%%\n"
    }
   }
  },
  {
   "cell_type": "code",
   "execution_count": null,
   "outputs": [],
   "source": [],
   "metadata": {
    "collapsed": false,
    "pycharm": {
     "name": "#%%\n"
    }
   }
  }
 ],
 "metadata": {
  "kernelspec": {
   "display_name": "Python 3",
   "language": "python",
   "name": "python3"
  },
  "language_info": {
   "codemirror_mode": {
    "name": "ipython",
    "version": 2
   },
   "file_extension": ".py",
   "mimetype": "text/x-python",
   "name": "python",
   "nbconvert_exporter": "python",
   "pygments_lexer": "ipython2",
   "version": "2.7.6"
  }
 },
 "nbformat": 4,
 "nbformat_minor": 0
}