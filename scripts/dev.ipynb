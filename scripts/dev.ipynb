{
 "cells": [
  {
   "cell_type": "code",
   "execution_count": 2,
   "metadata": {
    "collapsed": true
   },
   "outputs": [
    {
     "ename": "AttributeError",
     "evalue": "'KuCoinExtended' object has no attribute 'publicGetSymbols'",
     "output_type": "error",
     "traceback": [
      "\u001B[0;31m---------------------------------------------------------------------------\u001B[0m",
      "\u001B[0;31mAttributeError\u001B[0m                            Traceback (most recent call last)",
      "Input \u001B[0;32mIn [2]\u001B[0m, in \u001B[0;36m<cell line: 9>\u001B[0;34m()\u001B[0m\n\u001B[1;32m      5\u001B[0m exchange \u001B[38;5;241m=\u001B[39m KuCoinExtended()\n\u001B[1;32m      7\u001B[0m info \u001B[38;5;241m=\u001B[39m exchange\u001B[38;5;241m.\u001B[39mdescribe()\n\u001B[0;32m----> 9\u001B[0m balances \u001B[38;5;241m=\u001B[39m \u001B[43mexchange\u001B[49m\u001B[38;5;241;43m.\u001B[39;49m\u001B[43mfetch_balance\u001B[49m\u001B[43m(\u001B[49m\u001B[43m)\u001B[49m\n\u001B[1;32m     12\u001B[0m pprint(balances)\n",
      "File \u001B[0;32m~/Developer/freelance/@N2_Capital/n2_pairs_trader/venv/lib/python3.10/site-packages/ccxt/kucoin.py:1903\u001B[0m, in \u001B[0;36mkucoin.fetch_balance\u001B[0;34m(self, params)\u001B[0m\n\u001B[1;32m   1902\u001B[0m \u001B[38;5;28;01mdef\u001B[39;00m \u001B[38;5;21mfetch_balance\u001B[39m(\u001B[38;5;28mself\u001B[39m, params\u001B[38;5;241m=\u001B[39m{}):\n\u001B[0;32m-> 1903\u001B[0m     \u001B[38;5;28;43mself\u001B[39;49m\u001B[38;5;241;43m.\u001B[39;49m\u001B[43mload_markets\u001B[49m\u001B[43m(\u001B[49m\u001B[43m)\u001B[49m\n\u001B[1;32m   1904\u001B[0m     defaultType \u001B[38;5;241m=\u001B[39m \u001B[38;5;28mself\u001B[39m\u001B[38;5;241m.\u001B[39msafe_string_2(\u001B[38;5;28mself\u001B[39m\u001B[38;5;241m.\u001B[39moptions, \u001B[38;5;124m'\u001B[39m\u001B[38;5;124mfetchBalance\u001B[39m\u001B[38;5;124m'\u001B[39m, \u001B[38;5;124m'\u001B[39m\u001B[38;5;124mdefaultType\u001B[39m\u001B[38;5;124m'\u001B[39m, \u001B[38;5;124m'\u001B[39m\u001B[38;5;124mtrade\u001B[39m\u001B[38;5;124m'\u001B[39m)\n\u001B[1;32m   1905\u001B[0m     requestedType \u001B[38;5;241m=\u001B[39m \u001B[38;5;28mself\u001B[39m\u001B[38;5;241m.\u001B[39msafe_string(params, \u001B[38;5;124m'\u001B[39m\u001B[38;5;124mtype\u001B[39m\u001B[38;5;124m'\u001B[39m, defaultType)\n",
      "File \u001B[0;32m~/Developer/freelance/@N2_Capital/n2_pairs_trader/venv/lib/python3.10/site-packages/ccxt/base/exchange.py:1524\u001B[0m, in \u001B[0;36mExchange.load_markets\u001B[0;34m(self, reload, params)\u001B[0m\n\u001B[1;32m   1522\u001B[0m \u001B[38;5;28;01mif\u001B[39;00m \u001B[38;5;28mself\u001B[39m\u001B[38;5;241m.\u001B[39mhas[\u001B[38;5;124m'\u001B[39m\u001B[38;5;124mfetchCurrencies\u001B[39m\u001B[38;5;124m'\u001B[39m] \u001B[38;5;129;01mis\u001B[39;00m \u001B[38;5;28;01mTrue\u001B[39;00m:\n\u001B[1;32m   1523\u001B[0m     currencies \u001B[38;5;241m=\u001B[39m \u001B[38;5;28mself\u001B[39m\u001B[38;5;241m.\u001B[39mfetch_currencies()\n\u001B[0;32m-> 1524\u001B[0m markets \u001B[38;5;241m=\u001B[39m \u001B[38;5;28;43mself\u001B[39;49m\u001B[38;5;241;43m.\u001B[39;49m\u001B[43mfetch_markets\u001B[49m\u001B[43m(\u001B[49m\u001B[43mparams\u001B[49m\u001B[43m)\u001B[49m\n\u001B[1;32m   1525\u001B[0m \u001B[38;5;28;01mreturn\u001B[39;00m \u001B[38;5;28mself\u001B[39m\u001B[38;5;241m.\u001B[39mset_markets(markets, currencies)\n",
      "File \u001B[0;32m~/Developer/freelance/@N2_Capital/n2_pairs_trader/venv/lib/python3.10/site-packages/ccxt/kucoin.py:493\u001B[0m, in \u001B[0;36mkucoin.fetch_markets\u001B[0;34m(self, params)\u001B[0m\n\u001B[1;32m    492\u001B[0m \u001B[38;5;28;01mdef\u001B[39;00m \u001B[38;5;21mfetch_markets\u001B[39m(\u001B[38;5;28mself\u001B[39m, params\u001B[38;5;241m=\u001B[39m{}):\n\u001B[0;32m--> 493\u001B[0m     response \u001B[38;5;241m=\u001B[39m \u001B[38;5;28;43mself\u001B[39;49m\u001B[38;5;241;43m.\u001B[39;49m\u001B[43mpublicGetSymbols\u001B[49m(params)\n\u001B[1;32m    494\u001B[0m     \u001B[38;5;66;03m#\u001B[39;00m\n\u001B[1;32m    495\u001B[0m     \u001B[38;5;66;03m#     {\u001B[39;00m\n\u001B[1;32m    496\u001B[0m     \u001B[38;5;66;03m#         \"code\": \"200000\",\u001B[39;00m\n\u001B[0;32m   (...)\u001B[0m\n\u001B[1;32m    517\u001B[0m     \u001B[38;5;66;03m#     }\u001B[39;00m\n\u001B[1;32m    518\u001B[0m     \u001B[38;5;66;03m#\u001B[39;00m\n\u001B[1;32m    519\u001B[0m     data \u001B[38;5;241m=\u001B[39m \u001B[38;5;28mself\u001B[39m\u001B[38;5;241m.\u001B[39msafe_value(response, \u001B[38;5;124m'\u001B[39m\u001B[38;5;124mdata\u001B[39m\u001B[38;5;124m'\u001B[39m)\n",
      "\u001B[0;31mAttributeError\u001B[0m: 'KuCoinExtended' object has no attribute 'publicGetSymbols'"
     ]
    }
   ],
   "source": [
    "from pprint import pprint\n",
    "\n",
    "from core.exchanges.kucoin_extended import KuCoinExtended\n",
    "\n",
    "exchange = KuCoinExtended()\n",
    "\n",
    "info = exchange.describe()\n",
    "\n",
    "balances = exchange.fetch_balance()\n",
    "\n",
    "\n",
    "pprint(balances)\n"
   ]
  },
  {
   "cell_type": "code",
   "execution_count": null,
   "outputs": [],
   "source": [],
   "metadata": {
    "collapsed": false,
    "pycharm": {
     "name": "#%%\n"
    }
   }
  }
 ],
 "metadata": {
  "kernelspec": {
   "display_name": "Python 3",
   "language": "python",
   "name": "python3"
  },
  "language_info": {
   "codemirror_mode": {
    "name": "ipython",
    "version": 2
   },
   "file_extension": ".py",
   "mimetype": "text/x-python",
   "name": "python",
   "nbconvert_exporter": "python",
   "pygments_lexer": "ipython2",
   "version": "2.7.6"
  }
 },
 "nbformat": 4,
 "nbformat_minor": 0
}